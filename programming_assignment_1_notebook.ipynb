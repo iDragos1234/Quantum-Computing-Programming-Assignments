{
 "cells": [
  {
   "cell_type": "markdown",
   "source": [
    "# Programming Assignment I: Quantum Hello World on a Quantum Computer and Simulator with Qiskit"
   ],
   "metadata": {
    "collapsed": false,
    "pycharm": {
     "name": "#%% md\n"
    }
   }
  },
  {
   "cell_type": "markdown",
   "source": [
    "### Objective\n",
    "\n",
    "This assignment aims to have a first experience in programming a real quantum computer (the IBM Q) and use a simulator mimicking a quantum computer.\n",
    "\n",
    "### Background\n",
    "\n",
    "To complete this assignment, you can follow the instructions at Tutorial - Colab and Qiskit. For the assignment, you can use your local Python installation (on your workstation or laptop) or use Google's Colab, as in the tutorial. To access the IBM Q and a quantum computer simulator, you need to install the IBM Qiskit framework.\n",
    "\n",
    "As you know from the lecture and material on Canvas, programming a quantum computer consists of\n",
    "\n",
    "1. Creating a circuit (comprising quantum gates that act on qubits)\n",
    "\n",
    "2. Executing the circuit on the quantum computer (or on the simulator)\n",
    "\n",
    "3. Measure one or several times the result of the circuit execution. We often plot the results of the measurement as a histogram.\n",
    "\n",
    "In this assignment, we will run the quantum circuit corresponding to the Hello World code in quantum computing: the Bell circuit. This circuit takes as input two qubits (two qubits can represent four states 00, 01, 10, and 11) and showcases the quantum computing superposition and entanglement. We will describe in detail the circuit in the second module, and you do not need to understand it. You can follow the instructions at Tutorial - Colab and Qiskit for the assignment.\n",
    "\n",
    "### Tasks:\n",
    "\n",
    "1. Install Qiskit either on your local machine or on Colab\n",
    "\n",
    "2. Create an account on the IBM Quantum experience\n",
    "\n",
    "3. Using Qiskit, create a two-qubit system to implement the Bell's circuit. For this, follow the instructions in the tutorial.\n",
    "    * Plot the circuit diagram\n",
    "\n",
    "4. Run the quantum circuit using the Qiskit Aer quantum simulator backend.\n",
    "    * Plot the histogram with the (simulated) measurements\n",
    "\n",
    "5. Check which IBM quantum computers are available via the cloud (see the code in the tutorial).\n",
    "   * Which quantum technology IBM Quantum computers are based on? Find information about the IBM quantum computers and report the information you could find.\n",
    "\n",
    "6. Run the quantum circuit on any IBM quantum machine you can easily run on. Report the name of the IBM quantum computer you used for your experiments.\n",
    "   * Plot the histogram with the measurements\n",
    "   * Compare the results with the simulated ones."
   ],
   "metadata": {
    "collapsed": false,
    "pycharm": {
     "name": "#%% md\n"
    }
   }
  },
  {
   "cell_type": "code",
   "execution_count": 18,
   "outputs": [],
   "source": [
    "from qiskit import *\n",
    "from my_quantum_circuit import MyQuantumCircuit"
   ],
   "metadata": {
    "collapsed": false,
    "pycharm": {
     "name": "#%%\n"
    }
   }
  },
  {
   "cell_type": "code",
   "execution_count": null,
   "outputs": [],
   "source": [
    "IBMQ_API_TOKEN: str = 'PASTE_YOUR_IBMQ_API_TOKEN_HERE'\n",
    "IBMQ.save_account(IBMQ_API_TOKEN)\n",
    "PROVIDER = IBMQ.load_account()"
   ],
   "metadata": {
    "collapsed": false,
    "pycharm": {
     "name": "#%%\n",
     "is_executing": true
    }
   }
  },
  {
   "cell_type": "code",
   "execution_count": 46,
   "outputs": [],
   "source": [
    "class BellPairQuantumCircuit(MyQuantumCircuit):\n",
    "\n",
    "    def bell_pair(\n",
    "            self,\n",
    "            qreg_index: int,\n",
    "            control_qubit_index: int,\n",
    "            target_qubit_index: int,\n",
    "    ):\n",
    "        qreg = self.circuit.qregs[qreg_index]\n",
    "        control_qubit = qreg[control_qubit_index]\n",
    "        target_qubit = qreg[target_qubit_index]\n",
    "        self.circuit.h(control_qubit)\n",
    "        self.save_statevector(statevector_label='post_bell_pair')\\\n",
    "\n",
    "        self.circuit.cx(control_qubit, target_qubit)\n",
    "        return self"
   ],
   "metadata": {
    "collapsed": false,
    "pycharm": {
     "name": "#%%\n"
    }
   }
  },
  {
   "cell_type": "code",
   "execution_count": 50,
   "outputs": [],
   "source": [
    "my_bell_pair_circuit, plotted_results = BellPairQuantumCircuit()\\\n",
    "    .create_simple_circuit(n_qubits=2, name='Bell Pair circuit')\\\n",
    "    .bell_pair(qreg_index=0, control_qubit_index=0, target_qubit_index=1)\\\n",
    "    .measure_qreg_to_creg(qreg_index=0, creg_index=0)\\\n",
    "    .execute_circuit()\\\n",
    "    .plot_results()"
   ],
   "metadata": {
    "collapsed": false,
    "pycharm": {
     "name": "#%%\n"
    }
   }
  },
  {
   "cell_type": "markdown",
   "source": [
    "3. Using Qiskit, create a two-qubit system to implement the Bell's circuit. For this, follow the instructions in the tutorial.\n",
    "    * Plot the circuit diagram"
   ],
   "metadata": {
    "collapsed": false,
    "pycharm": {
     "name": "#%% md\n"
    }
   }
  },
  {
   "cell_type": "code",
   "execution_count": 51,
   "outputs": [
    {
     "name": "stdout",
     "output_type": "stream",
     "text": [
      "Statevector \"post_bell_pair\": \n"
     ]
    },
    {
     "data": {
      "text/plain": "<Figure size 432x288 with 4 Axes>",
      "image/png": "[encoded data removed]"
     },
     "metadata": {
      "needs_background": "light"
     },
     "output_type": "display_data"
    },
    {
     "data": {
      "text/plain": "<Figure size 534.249x204.68 with 1 Axes>",
      "image/png": "[encoded data removed]"
     },
     "execution_count": 51,
     "metadata": {},
     "output_type": "execute_result"
    }
   ],
   "source": [
    "my_bell_pair_circuit\\\n",
    "    .plot_statevector(statevector_label='post_bell_pair')\\\n",
    "    .draw_circuit_nice()[1]"
   ],
   "metadata": {
    "collapsed": false,
    "pycharm": {
     "name": "#%%\n"
    }
   }
  },
  {
   "cell_type": "markdown",
   "source": [
    "4. Run the quantum circuit using the Qiskit Aer quantum simulator backend.\n",
    "    * Plot the histogram with the (simulated) measurements"
   ],
   "metadata": {
    "collapsed": false,
    "pycharm": {
     "name": "#%% md\n"
    }
   }
  },
  {
   "cell_type": "code",
   "execution_count": 49,
   "outputs": [
    {
     "data": {
      "text/plain": "<Figure size 504x360 with 1 Axes>",
      "image/png": "[encoded data removed]"
     },
     "execution_count": 49,
     "metadata": {},
     "output_type": "execute_result"
    }
   ],
   "source": [
    "plotted_results"
   ],
   "metadata": {
    "collapsed": false,
    "pycharm": {
     "name": "#%%\n"
    }
   }
  },
  {
   "cell_type": "markdown",
   "source": [
    "5. Check which IBM quantum computers are available via the cloud (see the code in the tutorial).\n",
    "   * Which quantum technology IBM Quantum computers are based on? Find information about the IBM quantum computers and report the information you could find."
   ],
   "metadata": {
    "collapsed": false,
    "pycharm": {
     "name": "#%% md\n"
    }
   }
  },
  {
   "cell_type": "code",
   "execution_count": 45,
   "outputs": [
    {
     "name": "stdout",
     "output_type": "stream",
     "text": [
      "Available Cloud Backends:\n",
      "\t- ibmq_qasm_simulator\n",
      "\t- simulator_statevector\n",
      "\t- simulator_mps\n",
      "\t- simulator_extended_stabilizer\n",
      "\t- simulator_stabilizer\n",
      "\t- ibm_lagos\n",
      "\t- ibm_nairobi\n",
      "\t- ibm_perth\n",
      "\t- ibm_brisbane\n"
     ]
    }
   ],
   "source": [
    "available_cloud_backends = PROVIDER.backends()\n",
    "\n",
    "print('Available Cloud Backends:')\n",
    "for i in available_cloud_backends: print(f'\\t- {i}')"
   ],
   "metadata": {
    "collapsed": false,
    "pycharm": {
     "name": "#%%\n"
    }
   }
  },
  {
   "cell_type": "markdown",
   "source": [
    "6. Run the quantum circuit on any IBM quantum machine you can easily run on. Report the name of the IBM quantum computer you used for your experiments.\n",
    "   * Plot the histogram with the measurements\n",
    "   * Compare the results with the simulated ones."
   ],
   "metadata": {
    "collapsed": false,
    "pycharm": {
     "name": "#%% md\n"
    }
   }
  },
  {
   "cell_type": "code",
   "execution_count": null,
   "outputs": [],
   "source": [
    "my_bell_pair_circuit, bell_pair_job_monitor = BellPairQuantumCircuit()\\\n",
    "    .create_simple_circuit(n_qubits=2, name='Bell Pair circuit')\\\n",
    "    .bell_pair(qreg_index=0, control_qubit_index=0, target_qubit_index=1)\\\n",
    "    .save_statevector(statevector_label='bell_pair')\\\n",
    "    .measure_qreg_to_creg(qreg_index=0, creg_index=0)\\\n",
    "    .draw_circuit()\\\n",
    "    .exec_circ_on_ibm_qc(provider=PROVIDER)\\\n",
    "    .get_job_monitor()\n",
    "\n",
    "my_bell_pair_circuit.plot_results()[1]"
   ],
   "metadata": {
    "collapsed": false,
    "pycharm": {
     "name": "#%%\n"
    }
   }
  }
 ],
 "metadata": {
  "kernelspec": {
   "display_name": "Python 3",
   "language": "python",
   "name": "python3"
  },
  "language_info": {
   "codemirror_mode": {
    "name": "ipython",
    "version": 2
   },
   "file_extension": ".py",
   "mimetype": "text/x-python",
   "name": "python",
   "nbconvert_exporter": "python",
   "pygments_lexer": "ipython2",
   "version": "2.7.6"
  }
 },
 "nbformat": 4,
 "nbformat_minor": 0
}