{
 "cells": [
  {
   "cell_type": "markdown",
   "source": [
    "# Programing Assignment III: Quantum Computing Primitives"
   ],
   "metadata": {
    "collapsed": false,
    "pycharm": {
     "name": "#%% md\n"
    }
   }
  },
  {
   "cell_type": "code",
   "execution_count": 2,
   "outputs": [],
   "source": [
    "from numpy import pi as pi\n",
    "from qiskit import *\n",
    "from my_quantum_circuit import MyQuantumCircuit"
   ],
   "metadata": {
    "collapsed": false,
    "pycharm": {
     "name": "#%%\n"
    }
   }
  },
  {
   "cell_type": "code",
   "execution_count": null,
   "outputs": [],
   "source": [
    "IBMQ_API_TOKEN: str = ''\n",
    "IBMQ.save_account(IBMQ_API_TOKEN)\n",
    "IBMQ.load_account()\n",
    "pass"
   ],
   "metadata": {
    "collapsed": false,
    "pycharm": {
     "name": "#%%\n",
     "is_executing": true
    }
   }
  },
  {
   "cell_type": "markdown",
   "source": [
    "## Exercise I -  Programming Quantum Arithmetics with Qiskit - Increment and Decrement"
   ],
   "metadata": {
    "collapsed": false,
    "pycharm": {
     "name": "#%% md\n"
    }
   }
  },
  {
   "cell_type": "markdown",
   "source": [
    "Quantum computing allows for completing traditional arithmetic operations exploiting the superposition of states, e.g., we can increment or decrement in parallel quantum states in superposition. Because of the non-cloning theorem, we can't perform assignments, but only quantum state updates, like increment and decrement.\n",
    "\n",
    "This exercise aims to implement 3-qubit increment and decrement operators, =+ -=, using the IBM Qiskit framework and its Aer quantum computer simulator."
   ],
   "metadata": {
    "collapsed": false,
    "pycharm": {
     "name": "#%% md\n"
    }
   }
  },
  {
   "cell_type": "markdown",
   "source": [
    "As part of the exercise:\n",
    "1. Prepare a superposition of quantum states using HAD QPU instructions. You can decide freely which superposition. This will determine the concurrent increment ordecrement operator.\n",
    "2. Plot the quantum states using the circle notation. IBM Qiskit does not support visualization for this step, you will need to implement a Python routine to visualize the quantum states of our qubit. You can find a Python code to perform this task at 1.1.1 - Python Code for Circle Notation. You also need to check the Qiskit function to retrieve the complex number corresponding to a quantum state of our qubit system so you can then plot it.\n",
    "3. Perform an increment operation (by 1) +=\n",
    "4. Plot the quantum states using the circular notation\n",
    "5. Perform a decrement operation (by 1) -=\n",
    "6. Plot the quantum states using the circular notation"
   ],
   "metadata": {
    "collapsed": false,
    "pycharm": {
     "name": "#%% md\n"
    }
   }
  },
  {
   "cell_type": "markdown",
   "source": [
    "Answer the following questions:\n",
    "1. What happens if we have an overflow (for the increment) or underflow (for the decrement)? Show the results of the overflow and underflow with an experiment.\n",
    "2. Does increment and decrement operation work also with negative integer numbers? Motivate with an example."
   ],
   "metadata": {
    "collapsed": false,
    "pycharm": {
     "name": "#%% md\n"
    }
   }
  },
  {
   "cell_type": "code",
   "execution_count": 21,
   "outputs": [],
   "source": [
    "class IncDecQuantumCircuit(MyQuantumCircuit):\n",
    "\n",
    "    def increment_qreg(self, qreg_index: int):\n",
    "        \"\"\"\n",
    "        Quantum Increment operator.\n",
    "        :param qreg_index: The index of the quantum register to be incremented.\n",
    "        :return: self\n",
    "        \"\"\"\n",
    "        qreg = self.circuit.qregs[qreg_index]\n",
    "        self.circuit.ccx(qreg[0], qreg[1], qreg[2])\n",
    "        self.circuit.cx(qreg[0], qreg[1])\n",
    "        self.circuit.x(qreg[0])\n",
    "        return self\n",
    "\n",
    "\n",
    "    def decrement_qreg(self, qreg_index: int):\n",
    "        \"\"\"\n",
    "        Quantum Decrement operator.\n",
    "        :param qreg_index: The index of the quantum register to be decremented.\n",
    "        :return: self\n",
    "        \"\"\"\n",
    "        qreg = self.circuit.qregs[qreg_index]\n",
    "        self.circuit.x(qreg[0])\n",
    "        self.circuit.cx(qreg[0], qreg[1])\n",
    "        self.circuit.ccx(qreg[0], qreg[1], qreg[2])\n",
    "        return self\n",
    "\n",
    "\n",
    "class QFTQuantumCircuit(MyQuantumCircuit):\n",
    "\n",
    "    def quantum_fourier_transform_qreg(self, qreg_index: int):\n",
    "        \"\"\"\n",
    "        Quantum Fourier Transform.\n",
    "        :param qreg_index: The index of the quantum register on which we want to apply the QFT.\n",
    "        :return: If the target quantum register is an integer number, return a discrete sinusoidal wave of frequency equal to this number. Otherwise, if the register is a sine wave, transform it to its corresponding frequency. Frequency is the number of oscillations per total number of states in the target register.\n",
    "        \"\"\"\n",
    "        circuit = self.circuit\n",
    "        qreg = circuit.qregs[qreg_index]\n",
    "        qreg_size = int(qreg.size)\n",
    "\n",
    "        # Apply HADs and CPHASEs:\n",
    "        for qft_block in range(qreg_size - 1, -1, -1):\n",
    "            circuit.h(qreg[qft_block])\n",
    "            for j in range(qft_block - 1, -1, -1):\n",
    "                theta = - pi / 2 ** (qft_block - j)  # Beware: rotation angle theta must be negative!\n",
    "\n",
    "                circuit.cp(\n",
    "                    theta=theta,\n",
    "                    control_qubit=qreg[j],\n",
    "                    target_qubit=qreg[qft_block]\n",
    "                )\n",
    "\n",
    "            circuit.barrier()\n",
    "\n",
    "        # Apply SWAPs:\n",
    "        for k in range(qreg_size // 2):\n",
    "            circuit.swap(qreg[k], qreg[qreg_size - k - 1])\n",
    "\n",
    "        return self\n",
    "\n",
    "    def inverse_quantum_fourier_transform_qreg(self, qreg_index: int):\n",
    "        circuit = self.circuit\n",
    "        qreg = circuit.qregs[qreg_index]\n",
    "        qreg_size = int(qreg.size)\n",
    "        # Apply SWAPs:\n",
    "        for k in range(qreg_size // 2):\n",
    "            circuit.swap(qreg[k], qreg[qreg_size - k - 1])\n",
    "\n",
    "        # Apply HADs and CPHASEs:\n",
    "        for qft_block in range(qreg_size):\n",
    "            circuit.barrier()\n",
    "            circuit.h(qreg[qft_block])\n",
    "            for j in range(qft_block + 1, qreg_size):\n",
    "                theta = pi / 2 ** (j - qft_block)\n",
    "                circuit.cp(theta=theta, target_qubit=qreg[j], control_qubit=qreg[qft_block])\n",
    "\n",
    "        return self\n",
    "\n",
    "    def generate_signals(self, qreg_index: int, qubit_index_theta_dict: dict[int, float]):\n",
    "        qreg = self.circuit.qregs[qreg_index]\n",
    "        for qubit_index in qubit_index_theta_dict:\n",
    "            phase = qubit_index_theta_dict[qubit_index]\n",
    "            self.circuit.p(theta=phase, qubit=qreg[qubit_index])\n",
    "        return self"
   ],
   "metadata": {
    "collapsed": false,
    "pycharm": {
     "name": "#%%\n"
    }
   }
  },
  {
   "cell_type": "code",
   "execution_count": null,
   "outputs": [],
   "source": [
    "# Increment operation on a 3-qubit register:\n",
    "N_QUBITS = 3\n",
    "INITIAL_VALUE = 3\n",
    "HAD_GATE_INDICES = [2]\n",
    "\n",
    "MY_CIRCUIT = IncDecQuantumCircuit()\n",
    "\n",
    "RESULTS = MY_CIRCUIT\\\n",
    "    .create_simple_circuit(n_qubits=N_QUBITS, name='Increment Circuit')\\\n",
    "    .prepare_qreg_step(qreg_index=0,init_val=INITIAL_VALUE,had_gate_indices=HAD_GATE_INDICES)\\\n",
    "    .save_statevector(statevector_label='pre-increment')\\\n",
    "    .increment_qreg(qreg_index=0)\\\n",
    "    .save_statevector(statevector_label='post-increment')\\\n",
    "    .measure_qreg_to_creg(qreg_index=0, creg_index=0)\\\n",
    "    .execute_circuit()\\\n",
    "    .plot_statevector(statevector_label='pre-increment', useTwosComplement=False)\\\n",
    "    .plot_statevector(statevector_label='post-increment', useTwosComplement=False)\\\n",
    "    .plot_results()[1]\n",
    "\n",
    "RESULTS"
   ],
   "metadata": {
    "collapsed": false,
    "pycharm": {
     "name": "#%%\n",
     "is_executing": true
    }
   }
  },
  {
   "cell_type": "code",
   "execution_count": null,
   "outputs": [],
   "source": [
    "MY_CIRCUIT.circuit.draw('mpl')"
   ],
   "metadata": {
    "collapsed": false,
    "pycharm": {
     "name": "#%%\n",
     "is_executing": true
    }
   }
  },
  {
   "cell_type": "code",
   "execution_count": null,
   "outputs": [],
   "source": [
    "# Decrement operation on a 3-qubit register:\n",
    "N_QUBITS = 3\n",
    "INITIAL_VALUE = 0\n",
    "HAD_GATE_INDICES = None # [2]\n",
    "\n",
    "MY_CIRCUIT = IncDecQuantumCircuit()\n",
    "\n",
    "RESULTS = MY_CIRCUIT\\\n",
    "    .create_simple_circuit(n_qubits=N_QUBITS,name='Decrement Circuit')\\\n",
    "    .prepare_qreg_step(qreg_index=0,init_val=INITIAL_VALUE,had_gate_indices=HAD_GATE_INDICES)\\\n",
    "    .save_statevector(statevector_label='pre-decrement')\\\n",
    "    .decrement_qreg(qreg_index=0)\\\n",
    "    .save_statevector(statevector_label='post-decrement')\\\n",
    "    .measure_qreg_to_creg(qreg_index=0,creg_index=0)\\\n",
    "    .execute_circuit()\\\n",
    "    .plot_statevector(statevector_label='pre-decrement', useTwosComplement=False)\\\n",
    "    .plot_statevector(statevector_label='post-decrement', useTwosComplement=False)\\\n",
    "    .plot_results()[1]\n",
    "\n",
    "print('Resulted measurements:')\n",
    "RESULTS"
   ],
   "metadata": {
    "collapsed": false,
    "pycharm": {
     "name": "#%%\n",
     "is_executing": true
    }
   }
  },
  {
   "cell_type": "code",
   "execution_count": null,
   "outputs": [],
   "source": [
    "MY_CIRCUIT.circuit.draw('mpl')"
   ],
   "metadata": {
    "collapsed": false,
    "pycharm": {
     "name": "#%%\n",
     "is_executing": true
    }
   }
  },
  {
   "cell_type": "markdown",
   "source": [
    "## Exercise II -  Programming the Quantum Fourier Transform (QFT) with Qiskit"
   ],
   "metadata": {
    "collapsed": false,
    "pycharm": {
     "name": "#%% md\n"
    }
   }
  },
  {
   "cell_type": "markdown",
   "source": [
    "The quantum Fourier transform is a crucial building block of many quantum algorithms, from Shor’s factoring algorithm to quantum phase estimation and simulations. As we saw in the lectures, QFT, like the conventional DFT and FFT, can be used to transform a function from the time domain into the frequency domain. Information about the periodic behavior of a function can be, for instance, encoded in the phases of the quantum states.\n",
    "\n",
    "The goal of this exercise is to compute a 3-qubit QFT of \\[0, 1, 0, 0, 0, 0, 0, 0\\] using IBM Qiskit and execute it on the Qiskit Aer quantum computer simulator.  As part of this task, develop a three-qubit QFT from scratch using Qiskit, following the circuit formulation in the lecture. Note that the IBM Qiskit provide a QFT function without the need to implement it from scratch. However, the Qiskit QFT code has a different ordering, as explained in the textbook, as pointed out in this GitHub issue: https://github.com/Qiskit/qiskit/pull/4849."
   ],
   "metadata": {
    "collapsed": false,
    "pycharm": {
     "name": "#%% md\n"
    }
   }
  },
  {
   "cell_type": "markdown",
   "source": [
    "As part of the exercise:\n",
    "1. Prepare the input \\[0, 1, 0, 0, 0, 0, 0, 0\\].\n",
    "2. Plot the quantum states using the circle notation\n",
    "3. Perform the QFT\n",
    "4. Plot the quantum states using the circle notation"
   ],
   "metadata": {
    "collapsed": false,
    "pycharm": {
     "name": "#%% md\n"
    }
   }
  },
  {
   "cell_type": "code",
   "execution_count": null,
   "outputs": [],
   "source": [
    "# Example of QFT applied on a specified frequency for the sinusoidal wave:\n",
    "INITIAL_VALUE = 1\n",
    "HAD_GATE_INDICES = None\n",
    "\n",
    "MY_CIRCUIT = QFTQuantumCircuit()\n",
    "\n",
    "RESULTS = MY_CIRCUIT\\\n",
    "    .create_simple_circuit(n_qubits=4)\\\n",
    "    .prepare_qreg_step(qreg_index=0,init_val=INITIAL_VALUE,had_gate_indices=HAD_GATE_INDICES)\\\n",
    "    .save_statevector(statevector_label='pre-QFT')\\\n",
    "    .quantum_fourier_transform_qreg(qreg_index=0)\\\n",
    "    .save_statevector(statevector_label='post-QFT')\\\n",
    "    .measure_qreg_to_creg(qreg_index=0, creg_index=0)\\\n",
    "    .execute_circuit(n_shots=10000)\\\n",
    "    .plot_statevector(statevector_label='pre-QFT')\\\n",
    "    .plot_statevector(statevector_label='post-QFT')\\\n",
    "    .plot_results()[1]\n",
    "\n",
    "RESULTS\n",
    "\n",
    "# Applying QFT 1 time yields 2.\n",
    "# Applying QFT 2 times yields a similar signal pattern but phase rotations occur in the opposite direction.\n",
    "# Applying QFT 3 times yields 14 = 16 - 2.\n",
    "# Applying QFT 4 times yields the initial signals."
   ],
   "metadata": {
    "collapsed": false,
    "pycharm": {
     "name": "#%%\n",
     "is_executing": true
    }
   }
  },
  {
   "cell_type": "code",
   "execution_count": null,
   "outputs": [],
   "source": [
    "# QFT applied on discrete sinusoidal wave example (with frequency = 1):\n",
    "INITIAL_VALUE = None\n",
    "HAD_GATE_INDICES = [0, 1, 2, 3]\n",
    "\n",
    "THETAS = {\n",
    "    0: pi/8,\n",
    "    1: pi/4,\n",
    "    2: pi/2,\n",
    "    3: pi,\n",
    "}\n",
    "\n",
    "MY_CIRCUIT = QFTQuantumCircuit()\n",
    "\n",
    "RESULTS = MY_CIRCUIT\\\n",
    "    .create_simple_circuit(4)\\\n",
    "    .prepare_qreg_step(qreg_index=0,init_val=INITIAL_VALUE,had_gate_indices=HAD_GATE_INDICES)\\\n",
    "    .generate_signals(qreg_index=0, qubit_index_theta_dict=THETAS)\\\n",
    "    .save_statevector(statevector_label='pre-QFT')\\\n",
    "    .quantum_fourier_transform_qreg(qreg_index=0)\\\n",
    "    .save_statevector(statevector_label='post-QFT')\\\n",
    "    .measure_qreg_to_creg(qreg_index=0, creg_index=0)\\\n",
    "    .execute_circuit(n_shots=10000)\\\n",
    "    .plot_statevector(statevector_label='pre-QFT')\\\n",
    "    .plot_statevector(statevector_label='post-QFT')\\\n",
    "    .plot_results()[1]\n",
    "\n",
    "RESULTS\n",
    "\n",
    "# Applying QFT 1 time yields 2.\n",
    "# Applying QFT 2 times yields a similar signal pattern but phase rotations occur in the opposite direction.\n",
    "# Applying QFT 3 times yields 14 = 16 - 2.\n",
    "# Applying QFT 4 times yields the initial signals."
   ],
   "metadata": {
    "collapsed": false,
    "pycharm": {
     "name": "#%%\n",
     "is_executing": true
    }
   }
  },
  {
   "cell_type": "code",
   "execution_count": null,
   "outputs": [],
   "source": [
    "MY_CIRCUIT.circuit.draw('mpl')"
   ],
   "metadata": {
    "collapsed": false,
    "pycharm": {
     "name": "#%%\n",
     "is_executing": true
    }
   }
  },
  {
   "cell_type": "markdown",
   "source": [
    "## Assignment Report\n",
    "\n",
    "In your report, please provide:\n",
    "1. Briefly describe the quantum circuit design, including the gates used and their sequence.\n",
    "2. Code implementation of the quantum circuit using Qiskit.\n",
    "3. Simulation results\n",
    "4. Brief discussion of the results."
   ],
   "metadata": {
    "collapsed": false,
    "pycharm": {
     "name": "#%% md\n"
    }
   }
  }
 ],
 "metadata": {
  "kernelspec": {
   "display_name": "Python 3",
   "language": "python",
   "name": "python3"
  },
  "language_info": {
   "codemirror_mode": {
    "name": "ipython",
    "version": 2
   },
   "file_extension": ".py",
   "mimetype": "text/x-python",
   "name": "python",
   "nbconvert_exporter": "python",
   "pygments_lexer": "ipython2",
   "version": "2.7.6"
  }
 },
 "nbformat": 4,
 "nbformat_minor": 0
}